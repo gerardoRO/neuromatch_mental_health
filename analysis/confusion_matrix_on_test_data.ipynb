{
 "cells": [
  {
   "cell_type": "code",
   "execution_count": 1,
   "metadata": {},
   "outputs": [
    {
     "name": "stderr",
     "output_type": "stream",
     "text": [
      "/Users/Gerardo/.virtualenvs/neuro_match/lib/python3.9/site-packages/tqdm/auto.py:21: TqdmWarning: IProgress not found. Please update jupyter and ipywidgets. See https://ipywidgets.readthedocs.io/en/stable/user_install.html\n",
      "  from .autonotebook import tqdm as notebook_tqdm\n"
     ]
    }
   ],
   "source": [
    "import pandas as pd\n",
    "import numpy as np\n",
    "import torch\n",
    "from pytorch_pretrained_bert import BertForSequenceClassification\n",
    "\n",
    "from transformers import BertTokenizer, get_linear_schedule_with_warmup\n",
    "from torch.optim import AdamW\n",
    "from torch.utils.data import DataLoader, TensorDataset, random_split, RandomSampler\n",
    "\n",
    "import matplotlib.pyplot as plt\n",
    "\n",
    "import random\n",
    "import pickle\n",
    "import time\n",
    "from datetime import datetime\n",
    "\n",
    "import os\n",
    "import gdown\n",
    "\n",
    "from sklearn.metrics import confusion_matrix, ConfusionMatrixDisplay"
   ]
  },
  {
   "cell_type": "code",
   "execution_count": 3,
   "metadata": {},
   "outputs": [],
   "source": [
    "model_path  = '../data/56min_2023_07_info_final_model' #path to the model that we are going to load\n",
    "data_path = '../data/56min_2023_07_info_final' #path to the info dictionary containing the hyperparameters for the dataset"
   ]
  },
  {
   "cell_type": "code",
   "execution_count": 4,
   "metadata": {},
   "outputs": [
    {
     "data": {
      "text/plain": [
       "<torch._C.Generator at 0x1349731b0>"
      ]
     },
     "execution_count": 4,
     "metadata": {},
     "output_type": "execute_result"
    }
   ],
   "source": [
    "seed = 31\n",
    "\n",
    "## Set the random seeds for Python and Torch\n",
    "random.seed(seed)\n",
    "np.random.seed(seed)\n",
    "\n",
    "torch.manual_seed(seed)\n",
    "torch.cuda.manual_seed_all(seed)\n",
    "torch.cuda.manual_seed(seed)\n",
    "\n",
    "def seed_worker(worker_id): #function to initalize the seeds for the workers of DataLoader\n",
    "    worker_seed = torch.initial_seed() %2 ** 32\n",
    "    np.random.seed(worker_seed)\n",
    "    random.seed(worker_seed)\n",
    "\n",
    "g_seed = torch.Generator()\n",
    "g_seed.manual_seed(seed)"
   ]
  },
  {
   "cell_type": "code",
   "execution_count": 5,
   "metadata": {},
   "outputs": [],
   "source": [
    "def custom_train_test_split(df,features = 'input_ids',target = 'label',attention = 'attention_mask' ,test_size = 0.2,val_size = 0.2,gen_seed= g_seed):\n",
    "    \"\"\"Return two dataset objects of training and testing samples respectively\n",
    "\n",
    "    Args:\n",
    "        df (pandas.DataFrame): DataFrame containing all the relevant columns \n",
    "        features (str, optional): DataFrame column correspondign to the feature components. Defaults to 'input_ids'.\n",
    "        target (str, optional): DataFrame column corresponding to the label/target . Defaults to 'label'.\n",
    "        attention (str, optional): DataFrame column corresponding to the attention tokens. Defaults to 'attention_mask'.\n",
    "        test_size (float, optional): Percent size assigned to testing. Defaults to 0.2.\n",
    "        val_size (float, optional): Percent size assigne to validation. Defaults to 0.2.\n",
    "        gen_seed(torch.Generator, optional): Generator for seeding the random split. Defaults to g_seed defined at the start.\n",
    "\n",
    "    Returns:\n",
    "        tuple: Training,testing, and validation datasets objects respectively\n",
    "    \"\"\"\n",
    "    \n",
    "    \n",
    "    #Turn DataFrame into tensor objects and then into a dataset\n",
    "    X_label = torch.cat(df[features].to_list(),dim = 0) #tokenized data\n",
    "    X_attention = torch.cat(df[attention].to_list(),dim = 0) #whether its a word or padding\n",
    "    y = torch.tensor(df[target].to_list())\n",
    "    dataset = TensorDataset(X_label,X_attention,y)\n",
    "    \n",
    "    #Split into training and testing datasets\n",
    "    num_samps = df.shape[0]\n",
    "    num_test = int(num_samps*test_size)\n",
    "    num_val = int(num_samps*val_size)\n",
    "    num_train = num_samps - num_test - num_val\n",
    "    \n",
    "    train_data, test_data, val_data = random_split(dataset,[num_train,num_test,num_val],generator = gen_seed)\n",
    "    \n",
    "    return train_data,test_data,val_data\n",
    "\n",
    "def load_checkpoint_model(load_path = '10min_2023_07_checkpoint'):\n",
    "  \"\"\"Load model, optimizer, and system properties.\n",
    "\n",
    "  Args:\n",
    "      load_path (str) : path to load from.\n",
    "\n",
    "  Returns:\n",
    "      tuple : BERT model,torch.optim, curr_epoch, train_losses,val_losses, accuracies\n",
    "  \"\"\" \n",
    "  with open(f'data/{load_path}','rb') as fid:\n",
    "    checkpoint_dict = pickle.load(fid) \n",
    "      \n",
    "  empty_model = torch.load(f'data/{load_path}_model')\n",
    "  empty_optim = torch.load(f'data/{load_path}_optim')\n",
    "      \n",
    "  return empty_model,empty_optim\n",
    "\n",
    "\n",
    "def set_device():\n",
    "  \"\"\"\n",
    "  Set the device. CUDA if available, CPU otherwise\n",
    "\n",
    "  Args:\n",
    "    None\n",
    "\n",
    "  Returns:\n",
    "    Nothing\n",
    "  \"\"\"\n",
    "  device = \"cuda\" if torch.cuda.is_available() else \"cpu\"\n",
    "  if device != \"cuda\":\n",
    "    print(\"WARNING: Running on cpu \")\n",
    "  else:\n",
    "    print(\"GPU is enabled in this notebook.\")\n",
    "\n",
    "  return device"
   ]
  },
  {
   "cell_type": "code",
   "execution_count": 7,
   "metadata": {},
   "outputs": [],
   "source": [
    "if not os.path.isfile('../data/modeling_data.zip'):\n",
    "    id = '1p3wPDlGq7fsIjiEV2hce90N-OI3YCOdw'\n",
    "    output = \"../data/modeling_data.zip\"\n",
    "    gdown.download(id=id, output=output, quiet=False)\n",
    "    \n",
    "df = pd.read_pickle('../data/modeling_data.zip')\n",
    "df.label = df.label.astype('uint8')"
   ]
  },
  {
   "cell_type": "code",
   "execution_count": 9,
   "metadata": {},
   "outputs": [],
   "source": [
    "\n",
    "model = torch.load(f'{model_path}')\n",
    "with open(f'{data_path}','rb') as f:\n",
    "    info = pickle.load(f)"
   ]
  },
  {
   "cell_type": "code",
   "execution_count": 10,
   "metadata": {},
   "outputs": [],
   "source": [
    "train_dataset, test_dataset, validation_dataset = custom_train_test_split(df,test_size = info['test_data_size'], val_size = info['val_data_size'])\n",
    "test_loader = DataLoader(test_dataset,batch_size = info['batch_size'] , shuffle = False, num_workers = 0, worker_init_fn = seed_worker, generator = g_seed)"
   ]
  },
  {
   "cell_type": "code",
   "execution_count": 11,
   "metadata": {},
   "outputs": [
    {
     "name": "stdout",
     "output_type": "stream",
     "text": [
      "WARNING: Running on cpu \n"
     ]
    }
   ],
   "source": [
    "device = set_device()\n",
    "model.eval()\n",
    "all_labels = np.array([0])\n",
    "all_preds = np.array([0])\n",
    "for test_iter,batch in enumerate(test_loader):\n",
    "\n",
    "    feature = batch[0].to(device)\n",
    "    attention = batch[1].to(device)\n",
    "    labels = batch[2]\n",
    "    \n",
    "    with torch.no_grad():\n",
    "        logits = model(feature,token_type_ids = None,attention_mask =  attention).detach().cpu().numpy()\n",
    "    y_preds = np.argmax(logits,axis = 1)\n",
    "    all_preds = np.append(all_preds,y_preds)\n",
    "    all_labels = np.append(all_labels,labels)"
   ]
  },
  {
   "cell_type": "code",
   "execution_count": 12,
   "metadata": {},
   "outputs": [
    {
     "data": {
      "image/png": "[encoded data removed]",
      "text/plain": [
       "<Figure size 640x480 with 2 Axes>"
      ]
     },
     "metadata": {},
     "output_type": "display_data"
    }
   ],
   "source": [
    "y_preds = np.round(np.array(all_preds))\n",
    "y_true = np.array(all_labels)\n",
    "\n",
    "cm = confusion_matrix(y_true,y_preds)\n",
    "ConfusionMatrixDisplay(cm).plot()\n",
    "\n",
    "plt.savefig('../data/confusion_matrix.png')"
   ]
  },
  {
   "cell_type": "code",
   "execution_count": null,
   "metadata": {},
   "outputs": [],
   "source": []
  }
 ],
 "metadata": {
  "kernelspec": {
   "display_name": "neuromatch",
   "language": "python",
   "name": "python3"
  },
  "language_info": {
   "codemirror_mode": {
    "name": "ipython",
    "version": 3
   },
   "file_extension": ".py",
   "mimetype": "text/x-python",
   "name": "python",
   "nbconvert_exporter": "python",
   "pygments_lexer": "ipython3",
   "version": "3.9.10"
  },
  "orig_nbformat": 4
 },
 "nbformat": 4,
 "nbformat_minor": 2
}
